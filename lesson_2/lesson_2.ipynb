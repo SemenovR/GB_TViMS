{
 "cells": [
  {
   "cell_type": "markdown",
   "metadata": {},
   "source": [
    "# Урок 2"
   ]
  },
  {
   "cell_type": "code",
   "execution_count": 7,
   "metadata": {},
   "outputs": [],
   "source": [
    "import math"
   ]
  },
  {
   "cell_type": "code",
   "execution_count": 40,
   "metadata": {},
   "outputs": [],
   "source": [
    "# Формула Бернулли\n",
    "def bernully(n, k, p):\n",
    "    return (math.factorial(n) / (math.factorial(k) * math.factorial(n - k))) * p**k * (1 - p)**(n - k)\n",
    "\n",
    "# Формула Пуассона\n",
    "def poisson(n, m, p):\n",
    "    l = n * p\n",
    "    return l**m / math.factorial(m) * math.e**(-l)\n",
    "\n",
    "# Формула числа размещений\n",
    "def combinations(n, k):\n",
    "    return int(math.factorial(n) / (math.factorial(k) * math.factorial(n - k)))"
   ]
  },
  {
   "cell_type": "markdown",
   "metadata": {},
   "source": [
    "### 1. \n",
    "Вероятность того, что стрелок попадет в мишень, выстрелив один раз, равна 0.8. Стрелок выстрелил 100 раз. Найдите вероятность того, что стрелок попадет в цель ровно 85 раз."
   ]
  },
  {
   "cell_type": "markdown",
   "metadata": {},
   "source": [
    "### Решение.\n",
    "Воспользуемся формулой Бернулли: $P_n(X=k) = C_n^k p^k q^{n-k}$"
   ]
  },
  {
   "cell_type": "code",
   "execution_count": 20,
   "metadata": {},
   "outputs": [
    {
     "name": "stdout",
     "output_type": "stream",
     "text": [
      "Искомая вероятность равна: 0.048061793700746355\n"
     ]
    }
   ],
   "source": [
    "print('Искомая вероятность равна:', bernully(100, 85, 0.8))"
   ]
  },
  {
   "cell_type": "markdown",
   "metadata": {},
   "source": [
    "### 2.\n",
    "Вероятность того, что лампочка перегорит в течение первого дня эксплуатации, равна 0.0004. В жилом комплексе после ремонта в один день включили 5000 новых лампочек. Какова вероятность, что ни одна из них не перегорит в первый день? Какова вероятность, что перегорят ровно две?"
   ]
  },
  {
   "cell_type": "markdown",
   "metadata": {},
   "source": [
    "### Решение.\n",
    "Т.к. вероятность наступления события очень мала, то здесь лучше воспользоваться формулой Пуассона: $P_m \\approx \\frac{\\lambda^m}{m!}e^{-\\lambda}$"
   ]
  },
  {
   "cell_type": "code",
   "execution_count": 39,
   "metadata": {},
   "outputs": [
    {
     "name": "stdout",
     "output_type": "stream",
     "text": [
      "Вероятность перегорания 0 лампочек: 0.1353352832366127\n",
      "Вероятность перегорания 2 лампочек: 0.2706705664732254\n"
     ]
    }
   ],
   "source": [
    "print('Вероятность перегорания 0 лампочек:', poisson(5000, 0, 0.0004))\n",
    "print('Вероятность перегорания 2 лампочек:', poisson(5000, 2, 0.0004))"
   ]
  },
  {
   "cell_type": "markdown",
   "metadata": {},
   "source": [
    "### 3.\n",
    "Монету подбросили 144 раза. Какова вероятность, что орел выпадет ровно 70 раз?"
   ]
  },
  {
   "cell_type": "markdown",
   "metadata": {},
   "source": [
    "### Решение.\n",
    "Воспользуемся формулой Бернулли: $P_n(X=k) = C_n^k p^k q^{n-k}$"
   ]
  },
  {
   "cell_type": "code",
   "execution_count": 22,
   "metadata": {},
   "outputs": [
    {
     "name": "stdout",
     "output_type": "stream",
     "text": [
      "Искомая вероятность равна: 0.06281178035144776\n"
     ]
    }
   ],
   "source": [
    "print('Искомая вероятность равна:', bernully(144, 70, 0.5))"
   ]
  },
  {
   "cell_type": "markdown",
   "metadata": {},
   "source": [
    "### 4.\n",
    "В первом ящике находится 10 мячей, из которых 7 - белые. Во втором ящике - 11 мячей, из которых 9 белых. Из каждого ящика вытаскивают случайным образом по два мяча. Какова вероятность того, что все мячи белые? Какова вероятность того, что ровно два мяча белые? Какова вероятность того, что хотя бы один мяч белый?"
   ]
  },
  {
   "cell_type": "markdown",
   "metadata": {},
   "source": [
    "### Решение.\n",
    "1. Вероятность того, что все мячи белые.\n",
    "Вычислим вероятность достать белые мячи для каждого ящика через формулу числа размещений, как отношение числа успешных событий к общему числу событий. Полученные вероятности каждого ящика перемножаются."
   ]
  },
  {
   "cell_type": "code",
   "execution_count": 35,
   "metadata": {},
   "outputs": [
    {
     "data": {
      "text/plain": [
       "0.3054545454545455"
      ]
     },
     "execution_count": 35,
     "metadata": {},
     "output_type": "execute_result"
    }
   ],
   "source": [
    "combinations(7, 2) / combinations(10, 2) * combinations(9, 2) / combinations(11, 2)"
   ]
  },
  {
   "cell_type": "markdown",
   "metadata": {},
   "source": [
    "2. Вероятность того, что ровно два мяча белые.\n",
    "Вычиляется так же с использованием формулы чила размещений. Но в данном случае нужно просуммировать вероятность достать белые мячи только из первого ящика, вероятность достать белые мячи только из второго ящика и вероятность достать один белый мяч из первого и один из второго."
   ]
  },
  {
   "cell_type": "code",
   "execution_count": 38,
   "metadata": {},
   "outputs": [
    {
     "data": {
      "text/plain": [
       "0.6248484848484849"
      ]
     },
     "execution_count": 38,
     "metadata": {},
     "output_type": "execute_result"
    }
   ],
   "source": [
    "combinations(7, 2) / combinations(10, 2) * combinations(11 - 9, 2) / combinations(11, 2) + \\\n",
    "combinations(10 - 7, 2) / combinations(10, 2) * combinations(9, 2) / combinations(11, 2) + \\\n",
    "combinations(7, 1) / combinations(10, 1) * combinations(9, 1) / combinations(11, 1)"
   ]
  },
  {
   "cell_type": "markdown",
   "metadata": {},
   "source": [
    "3. Вероятность того, что хотя бы один мяч белый.\n",
    "Вычиляется так же с использованием формулы чила размещений. Но в данном случае нужно из общей вероятности (т.е. 1) вычесть вероятность достать ни одного белого мяча."
   ]
  },
  {
   "cell_type": "code",
   "execution_count": 37,
   "metadata": {},
   "outputs": [
    {
     "data": {
      "text/plain": [
       "0.9987878787878788"
      ]
     },
     "execution_count": 37,
     "metadata": {},
     "output_type": "execute_result"
    }
   ],
   "source": [
    "1 - combinations(10 - 7, 2) / combinations(10, 2) * combinations(11 - 9, 2) / combinations(11, 2)"
   ]
  },
  {
   "cell_type": "code",
   "execution_count": null,
   "metadata": {},
   "outputs": [],
   "source": []
  }
 ],
 "metadata": {
  "kernelspec": {
   "display_name": "Python 3",
   "language": "python",
   "name": "python3"
  },
  "language_info": {
   "codemirror_mode": {
    "name": "ipython",
    "version": 3
   },
   "file_extension": ".py",
   "mimetype": "text/x-python",
   "name": "python",
   "nbconvert_exporter": "python",
   "pygments_lexer": "ipython3",
   "version": "3.7.3"
  }
 },
 "nbformat": 4,
 "nbformat_minor": 2
}
