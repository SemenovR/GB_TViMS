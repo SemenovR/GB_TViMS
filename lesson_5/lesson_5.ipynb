{
 "cells": [
  {
   "cell_type": "markdown",
   "metadata": {},
   "source": [
    "# Урок 5"
   ]
  },
  {
   "cell_type": "code",
   "execution_count": 46,
   "metadata": {},
   "outputs": [],
   "source": [
    "import math\n",
    "import numpy as np\n",
    "from scipy.stats import norm\n",
    "from scipy.stats import t"
   ]
  },
  {
   "cell_type": "code",
   "execution_count": 85,
   "metadata": {},
   "outputs": [],
   "source": [
    "# Доверительный интервал\n",
    "def confidence_interval(m, z, sigma, n):\n",
    "    return [m - z * sigma / math.sqrt(n), m + z * sigma / math.sqrt(n)]"
   ]
  },
  {
   "cell_type": "code",
   "execution_count": 86,
   "metadata": {},
   "outputs": [],
   "source": [
    "# Z расчётное\n",
    "def z_calculated(m0, m1, sigma, n):\n",
    "    return (m1 - m0) / (sigma / math.sqrt(n))"
   ]
  },
  {
   "cell_type": "markdown",
   "metadata": {},
   "source": [
    "### 1. \n",
    "Известно, что генеральная совокупность распределена нормально со средним квадратическим отклонением, равным 16. Найти доверительный интервал для оценки математического ожидания a с надежностью 0.95, если выборочная средняя M = 80, а объем выборки n = 256."
   ]
  },
  {
   "cell_type": "markdown",
   "metadata": {},
   "source": [
    "### Решение."
   ]
  },
  {
   "cell_type": "code",
   "execution_count": 39,
   "metadata": {},
   "outputs": [
    {
     "name": "stdout",
     "output_type": "stream",
     "text": [
      "Доверительный интервал: [78.04003601545995, 81.95996398454005]\n"
     ]
    }
   ],
   "source": [
    "n = 256\n",
    "M = 80\n",
    "sigma = 16\n",
    "a = 0.95\n",
    "z = norm.ppf(1 - (1 - a) / 2)\n",
    "\n",
    "print('Доверительный интервал:', confidence_interval(M, z, sigma, n))"
   ]
  },
  {
   "cell_type": "markdown",
   "metadata": {},
   "source": [
    "### 2. \n",
    "В результате 10 независимых измерений некоторой величины X, выполненных с одинаковой точностью, получены опытные данные: 6.9, 6.1, 6.2, 6.8, 7.5, 6.3, 6.4, 6.9, 6.7, 6.1 Предполагая, что результаты измерений подчинены нормальному закону распределения вероятностей, оценить истинное значение величины X при помощи доверительного интервала, покрывающего это значение с доверительной вероятностью 0,95."
   ]
  },
  {
   "cell_type": "markdown",
   "metadata": {},
   "source": [
    "### Решение."
   ]
  },
  {
   "cell_type": "code",
   "execution_count": 61,
   "metadata": {},
   "outputs": [
    {
     "name": "stdout",
     "output_type": "stream",
     "text": [
      "X = 6.590000000000001\n",
      "Доверительный интервал: [6.267515851415713, 6.912484148584288]\n"
     ]
    }
   ],
   "source": [
    "measure = np.array([6.9, 6.1, 6.2, 6.8, 7.5, 6.3, 6.4, 6.9, 6.7, 6.1])\n",
    "n = measure.size\n",
    "M = measure.mean()\n",
    "sigma = measure.std(ddof=1)\n",
    "a = 0.95\n",
    "z = t.ppf(1 - (1 - a) / 2, n - 1)\n",
    "\n",
    "print('X =', M)\n",
    "print('Доверительный интервал:', confidence_interval(M, z, sigma, n))"
   ]
  },
  {
   "cell_type": "markdown",
   "metadata": {},
   "source": [
    "### 3. \n",
    "Утверждается, что шарики для подшипников, изготовленные автоматическим станком, имеют средний диаметр 17 мм.\n",
    "Используя односторонний критерий с α=0,05, проверить эту гипотезу, если в выборке из n=100 шариков средний диаметр\n",
    "оказался равным 17.5 мм, а дисперсия известна и равна 4 кв.мм."
   ]
  },
  {
   "cell_type": "markdown",
   "metadata": {},
   "source": [
    "### Решение."
   ]
  },
  {
   "cell_type": "code",
   "execution_count": 87,
   "metadata": {},
   "outputs": [
    {
     "name": "stdout",
     "output_type": "stream",
     "text": [
      "Zт = 1.6448536269514722\n",
      "Zр = 2.5\n"
     ]
    }
   ],
   "source": [
    "# H0 - средний диаметр равен 17 мм (М = М0)\n",
    "# H1 - средний диаметр равен 17.5 мм (М > M0)\n",
    "M0 = 17\n",
    "M1 = 17.5\n",
    "a = 0.05\n",
    "n = 100\n",
    "D = 4\n",
    "sigma = math.sqrt(D)\n",
    "\n",
    "zt = norm.ppf(1 - a)\n",
    "zr = z_calculated(M0, M1, sigma, n)\n",
    "\n",
    "print('Zт =', zt)\n",
    "print('Zр =', zr)"
   ]
  },
  {
   "cell_type": "markdown",
   "metadata": {},
   "source": [
    "Т.к. Zр > Zт, то гипотеза H1 отвергается с уровнем значимости 0,05"
   ]
  },
  {
   "cell_type": "markdown",
   "metadata": {},
   "source": [
    "### 4. \n",
    "Продавец утверждает, что средний вес пачки печенья составляет 200 г. Из партии извлечена выборка из 10 пачек. Вес каждой пачки составляет: 202, 203, 199, 197, 195, 201, 200, 204, 194, 190. Известно, что их веса распределены нормально. Верно ли утверждение продавца, если учитывать, что доверительная вероятность равна 99%?"
   ]
  },
  {
   "cell_type": "markdown",
   "metadata": {},
   "source": [
    "### Решение."
   ]
  },
  {
   "cell_type": "code",
   "execution_count": 88,
   "metadata": {},
   "outputs": [
    {
     "name": "stdout",
     "output_type": "stream",
     "text": [
      "Zт = [ -3.2498355440153697 , 3.2498355440153697 ]\n",
      "Zр = -1.0651074037450896\n"
     ]
    }
   ],
   "source": [
    "# H0 - средний вес равен 200 мм (М = М0)\n",
    "# H1 - средний вес не равен 200 мм (М != M0)\n",
    "M0 = 200\n",
    "measure = np.array([202, 203, 199, 197, 195, 201, 200, 204, 194, 190])\n",
    "M1 = measure.mean()\n",
    "n = measure.size\n",
    "sigma = measure.std(ddof=1)\n",
    "a = 0.99\n",
    "\n",
    "zt = t.ppf(1 - (1 - a) / 2, n - 1)\n",
    "zr = z_calculated(M0, M1, sigma, n)\n",
    "\n",
    "print('Zт = [', -zt, ',', zt, ']')\n",
    "print('Zр =', zr)"
   ]
  },
  {
   "cell_type": "markdown",
   "metadata": {},
   "source": [
    "Т.к. Zр попадает в интервал Zт, то принимается гипотеза H0 с уровнем значимости 0,01.<br>\n",
    "Утверждение продавца верно.\n"
   ]
  },
  {
   "cell_type": "code",
   "execution_count": null,
   "metadata": {},
   "outputs": [],
   "source": []
  }
 ],
 "metadata": {
  "kernelspec": {
   "display_name": "Python 3",
   "language": "python",
   "name": "python3"
  },
  "language_info": {
   "codemirror_mode": {
    "name": "ipython",
    "version": 3
   },
   "file_extension": ".py",
   "mimetype": "text/x-python",
   "name": "python",
   "nbconvert_exporter": "python",
   "pygments_lexer": "ipython3",
   "version": "3.7.3"
  }
 },
 "nbformat": 4,
 "nbformat_minor": 2
}
