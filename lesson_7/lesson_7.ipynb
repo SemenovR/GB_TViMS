{
 "cells": [
  {
   "cell_type": "markdown",
   "metadata": {},
   "source": [
    "## Урок 7"
   ]
  },
  {
   "cell_type": "code",
   "execution_count": 48,
   "metadata": {},
   "outputs": [],
   "source": [
    "import math\n",
    "import numpy as np\n",
    "import matplotlib.pyplot as plt"
   ]
  },
  {
   "cell_type": "markdown",
   "metadata": {},
   "source": [
    "### 1.\n",
    "Даны значения величины заработной платы заемщиков банка (zp) и значения их поведенческого кредитного скоринга (ks): zp = [35, 45, 190, 200, 40, 70, 54, 150, 120, 110], ks = [401, 574, 874, 919, 459, 739, 653, 902, 746, 832]. Используя математические операции, посчитать коэффициенты линейной регрессии, приняв за X заработную плату (то есть, zp - признак), а за y - значения скорингового балла (то есть, ks - целевая переменная). Произвести расчет как с использованием intercept, так и без."
   ]
  },
  {
   "cell_type": "markdown",
   "metadata": {},
   "source": [
    "### Решение"
   ]
  },
  {
   "cell_type": "code",
   "execution_count": 49,
   "metadata": {},
   "outputs": [
    {
     "name": "stdout",
     "output_type": "stream",
     "text": [
      "Коэффицинты (с intercept): a = 444.1773573243596, b = 2.620538882402765\n",
      "Коэффицинт (без intercept): b = 5.889820420132689\n"
     ]
    },
    {
     "data": {
      "image/png": "[encoded data removed]",
      "text/plain": [
       "<Figure size 432x288 with 1 Axes>"
      ]
     },
     "metadata": {
      "needs_background": "light"
     },
     "output_type": "display_data"
    }
   ],
   "source": [
    "zp = np.array([35, 45, 190, 200, 40, 70, 54, 150, 120, 110])\n",
    "ks = np.array([401, 574, 874, 919, 459, 739, 653, 902, 746, 832])\n",
    "n = zp.size\n",
    "\n",
    "b1 = (np.mean(zp * ks) - np.mean(zp) * np.mean(ks)) / (np.mean(zp**2) - np.mean(zp) ** 2)\n",
    "a1 = np.mean(ks) - b1 * np.mean(zp)\n",
    "print(f\"Коэффицинты (с intercept): a = {a1}, b = {b1}\")\n",
    "\n",
    "X = zp.reshape((n, 1))\n",
    "Y = ks.reshape((n, 1))\n",
    "b2 = (np.linalg.inv(X.T @ X) @ X.T @ Y)[0][0]\n",
    "print(f\"Коэффицинт (без intercept): b = {b2}\")\n",
    "\n",
    "x = np.array(sorted(zp))\n",
    "y1 = a1 + x * b1\n",
    "y2 = x * b2\n",
    "plt.plot(x, y1, c='blue')\n",
    "plt.plot(x, y2, c='green')\n",
    "plt.scatter(zp, ks, c='red')\n",
    "plt.show()"
   ]
  },
  {
   "cell_type": "markdown",
   "metadata": {},
   "source": [
    "### 2.\n",
    "Посчитать коэффициент линейной регрессии при заработной плате (zp), используя градиентный спуск (без intercept)."
   ]
  },
  {
   "cell_type": "markdown",
   "metadata": {},
   "source": [
    "### Решение"
   ]
  },
  {
   "cell_type": "code",
   "execution_count": 50,
   "metadata": {},
   "outputs": [
    {
     "name": "stdout",
     "output_type": "stream",
     "text": [
      "Iteration: 0, B1 = 0.25952808, mse = 493237.7212546963\n",
      "Iteration: 100, B1 = 5.54537842245223, mse = 58151.31823171113\n",
      "Iteration: 200, B1 = 5.868748638669329, mse = 56522.97550129376\n",
      "Iteration: 300, B1 = 5.888531320728348, mse = 56516.88130936019\n",
      "Iteration: 400, B1 = 5.8897415574471985, mse = 56516.85850140053\n",
      "Iteration: 500, B1 = 5.889815595583751, mse = 56516.858416040064\n",
      "Iteration: 600, B1 = 5.889820124983314, mse = 56516.85841572062\n",
      "Iteration: 700, B1 = 5.889820402076462, mse = 56516.85841571941\n",
      "Iteration: 800, B1 = 5.88982041902807, mse = 56516.8584157194\n",
      "Iteration: 900, B1 = 5.889820420065112, mse = 56516.85841571941\n",
      "Коэффициент линейной регрессии = 5.889820420128437\n"
     ]
    }
   ],
   "source": [
    "alpha = 1e-6\n",
    "B1 = 0.1\n",
    "X = zp\n",
    "y = ks\n",
    "\n",
    "def mse_(B1, y=y, X=X, n=n):\n",
    "    return np.sum((B1 * X - y)**2) / n\n",
    "\n",
    "for i in range(1000):\n",
    "    B1 -= alpha * (2 / n) * np.sum((B1 * X - y) * X)\n",
    "    if i % 100 == 0:\n",
    "        print(f'Iteration: {i}, B1 = {B1}, mse = {mse_(B1)}')\n",
    "        \n",
    "print(f'Коэффициент линейной регрессии = {B1}')"
   ]
  },
  {
   "cell_type": "markdown",
   "metadata": {},
   "source": [
    "### 3.\n",
    "В каких случаях для вычисления доверительных интервалов и проверки статистических гипотез используется таблица значений функции Лапласа, а в каких - таблица критических точек распределения Стьюдента?"
   ]
  },
  {
   "cell_type": "markdown",
   "metadata": {},
   "source": [
    "### Решение"
   ]
  },
  {
   "cell_type": "markdown",
   "metadata": {},
   "source": [
    "Если известно среднеквадратическое отклонение генеральной совокупности, то используется таблица значений функции Лапласа,\n",
    "если не известно, то таблица критических точек распределения Стьюдента."
   ]
  },
  {
   "cell_type": "markdown",
   "metadata": {},
   "source": [
    "### *4.\n",
    "Произвести вычисления как в пункте 2, но с вычислением intercept. Учесть, что изменение коэффициентов должно производиться на каждом шаге одновременно (то есть изменение одного коэффициента не должно влиять на изменение другого во время одной итерации)."
   ]
  },
  {
   "cell_type": "markdown",
   "metadata": {},
   "source": [
    "### Решение"
   ]
  },
  {
   "cell_type": "code",
   "execution_count": 51,
   "metadata": {},
   "outputs": [
    {
     "name": "stdout",
     "output_type": "stream",
     "text": [
      "Iteration: 0, A1 = 0.1139932, B1 = 1.6950780000000003, mse = 298805.38996099564\n",
      "Iteration: 100000, A1 = 176.8178756872003, B1 = 4.588422873669245, mse = 24602.65909964911\n",
      "Iteration: 200000, A1 = 283.1956881772298, B1 = 3.805435141410038, mse = 13044.16516084747\n",
      "Iteration: 300000, A1 = 347.24756959921285, B1 = 3.333984975180734, mse = 8853.693377127487\n",
      "Iteration: 400000, A1 = 385.81429152799836, B1 = 3.0501168504576253, mse = 7334.45965488598\n",
      "Iteration: 500000, A1 = 409.0359675710964, B1 = 2.8791950478876815, mse = 6783.669380682817\n",
      "Iteration: 600000, A1 = 423.0181317603773, B1 = 2.77628013758468, mse = 6583.983235150707\n",
      "Iteration: 700000, A1 = 431.43702947702633, B1 = 2.7143133281816474, mse = 6511.588063004361\n",
      "Iteration: 800000, A1 = 436.50619028818244, B1 = 2.677002063406801, mse = 6485.341570358934\n",
      "Iteration: 900000, A1 = 439.55841781180436, B1 = 2.6545363193656377, mse = 6475.8260411356305\n",
      "Iteration: 1000000, A1 = 441.396215664944, B1 = 2.6410093146294247, mse = 6472.376235570253\n",
      "Iteration: 1100000, A1 = 442.502784858385, B1 = 2.632864476123355, mse = 6471.125526528265\n",
      "Iteration: 1200000, A1 = 443.1690688992334, B1 = 2.6279603310016144, mse = 6470.672088478478\n",
      "Iteration: 1300000, A1 = 443.57024979758313, B1 = 2.625007462217497, mse = 6470.507696874921\n",
      "Iteration: 1400000, A1 = 443.8118076067508, B1 = 2.62322948994318, mse = 6470.4480975551605\n",
      "Iteration: 1500000, A1 = 443.95725365219454, B1 = 2.6221589427433236, mse = 6470.4264901321585\n",
      "Iteration: 1600000, A1 = 444.04482917793496, B1 = 2.62151434815451, mse = 6470.418656473473\n",
      "Iteration: 1700000, A1 = 444.09755988427065, B1 = 2.621126226842295, mse = 6470.4158164213195\n",
      "Iteration: 1800000, A1 = 444.12930993504966, B1 = 2.6208925324310575, mse = 6470.4147867752\n",
      "Iteration: 1900000, A1 = 444.14842717802156, B1 = 2.620751821070566, mse = 6470.414413482363\n",
      "Коэффициенты: 444.15993790522555, 2.6206670970291595\n"
     ]
    }
   ],
   "source": [
    "alpha = 1e-5\n",
    "B1 = 0.1\n",
    "A1 = 0.1\n",
    "X = zp\n",
    "y = ks\n",
    "\n",
    "def mse2_(A1, B1, y=y, X=X, n=n):\n",
    "    return np.sum((A1 + B1 * X - y)**2) / n\n",
    "\n",
    "for i in range(2000000):\n",
    "    y0 = A1 + B1 * X\n",
    "    A1 -= alpha * (2 / n) * np.sum(y0 - y)\n",
    "    B1 -= alpha * (2 / n) * np.sum((y0 - y) * X)\n",
    "    if i % 100000 == 0:\n",
    "        print(f'Iteration: {i}, A1 = {A1}, B1 = {B1}, mse = {mse2_(A1, B1)}')\n",
    "        \n",
    "print(f'Коэффициенты: {A1}, {B1}')"
   ]
  },
  {
   "cell_type": "code",
   "execution_count": null,
   "metadata": {},
   "outputs": [],
   "source": []
  }
 ],
 "metadata": {
  "kernelspec": {
   "display_name": "TensorFlow-GPU-1.13",
   "language": "python",
   "name": "tf-gpu"
  },
  "language_info": {
   "codemirror_mode": {
    "name": "ipython",
    "version": 3
   },
   "file_extension": ".py",
   "mimetype": "text/x-python",
   "name": "python",
   "nbconvert_exporter": "python",
   "pygments_lexer": "ipython3",
   "version": "3.7.3"
  }
 },
 "nbformat": 4,
 "nbformat_minor": 2
}
